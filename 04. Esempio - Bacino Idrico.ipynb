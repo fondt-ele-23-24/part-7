{
 "cells": [
  {
   "cell_type": "markdown",
   "metadata": {
    "slideshow": {
     "slide_type": "-"
    }
   },
   "source": [
    "# Esercizio: Bacino Idrico\n",
    "\n",
    "**Un piccolo bacino idrico è alimentato artificialmente**\n",
    "\n",
    "<center><img src=\"assets/Bacini-idrici.jpg\" width=75%/></center>\n",
    "\n",
    "La portata d'acqua in ingresso (in $m^3/h$) è data da:\n",
    "\n",
    "$$\n",
    "q(t) = a + b \\sin\\left(2\\pi \\frac{t}{24}\\right) + c \\sin\\left(2\\pi \\frac{t}{13}\\right)\n",
    "$$\n",
    "\n",
    "**Prima di tutto, si provveda ad abilitare l'estensione autoreload di Jupyter:**"
   ]
  },
  {
   "cell_type": "code",
   "execution_count": 1,
   "metadata": {},
   "outputs": [],
   "source": [
    "%load_ext autoreload\n",
    "%autoreload 2"
   ]
  },
  {
   "cell_type": "markdown",
   "metadata": {},
   "source": [
    "**Nel modulo `esempio.bacino_idrico`, si definisca la funzione:**\n",
    "\n",
    "```python\n",
    "def q(t, a=4, b=2, c=1)\n",
    "```\n",
    "\n",
    "* La funzione deve calcolare la portata, come indicato dall'esercizio\n",
    "* Si utilizzi il modulo `numpy` per il calcolo\n",
    "* Il codice di collaudo della funzione è già disponibile nella cella seguente"
   ]
  },
  {
   "cell_type": "code",
   "execution_count": 3,
   "metadata": {},
   "outputs": [
    {
     "name": "stdout",
     "output_type": "stream",
     "text": [
      "q(0.000) = 4.000\n",
      "q(2.667) = 6.246\n",
      "q(5.333) = 6.504\n",
      "q(8.000) = 5.069\n",
      "q(10.667) = 3.781\n",
      "q(13.333) = 3.476\n",
      "q(16.000) = 3.261\n",
      "q(18.667) = 2.422\n",
      "q(21.333) = 1.940\n",
      "q(24.000) = 3.177\n"
     ]
    }
   ],
   "source": [
    "import numpy as np\n",
    "from esempio2 import bacino_idrico\n",
    "\n",
    "for t in np.linspace(0, 24, 10):\n",
    "    print(f\"q({t:.3f}) = {bacino_idrico.q(t):.3f}\")"
   ]
  },
  {
   "cell_type": "markdown",
   "metadata": {},
   "source": [
    "**La quantità d'acqua arrivata nell'intervallo $[t_0, t_1]$ è data da:**\n",
    "\n",
    "$$\n",
    "Q = \\int_{t_0}^{t_1} q(t) \\, dt\n",
    "$$\n",
    "\n",
    "\n",
    "Nel modulo `esempio.bacino_idrico`, si definisca per tale calcolo la funzione:\n",
    "\n",
    "```python\n",
    "def immissione(f, t0, t1)\n",
    "```\n",
    "\n",
    "* I parametro `t0` e `t1` rappresentano i valori di $[t_0, t_1]$\n",
    "* Il parametro `f` è una funzione con parametro `t` che indica la portata al tempo `t`\n",
    "* ...In pratica, come valore di `f` passeremo la funzione `esempio.bacino_idrico.q`\n",
    "* Si utilizzi per l'integrazione la funzione `scipy.integrate.quad`\n",
    "* La funzione deve restituire solo la quantità d'acqua (non il bound sull'errore)\n",
    "* Il codice di collaudo della funzione è già disponibile nella cella seguente"
   ]
  },
  {
   "cell_type": "code",
   "execution_count": 5,
   "metadata": {},
   "outputs": [
    {
     "name": "stdout",
     "output_type": "stream",
     "text": [
      "Acqua arrivata dal tempo 0 al tempo 0.000 = 0.000\n",
      "Acqua arrivata dal tempo 0 al tempo 2.667 = 13.947\n",
      "Acqua arrivata dal tempo 0 al tempo 5.333 = 31.464\n",
      "Acqua arrivata dal tempo 0 al tempo 8.000 = 47.077\n",
      "Acqua arrivata dal tempo 0 al tempo 10.667 = 58.667\n",
      "Acqua arrivata dal tempo 0 al tempo 13.333 = 68.178\n",
      "Acqua arrivata dal tempo 0 al tempo 16.000 = 77.279\n",
      "Acqua arrivata dal tempo 0 al tempo 18.667 = 84.952\n",
      "Acqua arrivata dal tempo 0 al tempo 21.333 = 90.498\n",
      "Acqua arrivata dal tempo 0 al tempo 24.000 = 96.894\n"
     ]
    }
   ],
   "source": [
    "for t in np.linspace(0, 24, 10):\n",
    "    Q = bacino_idrico.immissione(t0=0, t1=t)\n",
    "    print(f\"Acqua arrivata dal tempo 0 al tempo {t:.3f} = {Q:.3f}\")"
   ]
  }
 ],
 "metadata": {
  "celltoolbar": "Slideshow",
  "kernelspec": {
   "display_name": "Python 3 (ipykernel)",
   "language": "python",
   "name": "python3"
  },
  "language_info": {
   "codemirror_mode": {
    "name": "ipython",
    "version": 3
   },
   "file_extension": ".py",
   "mimetype": "text/x-python",
   "name": "python",
   "nbconvert_exporter": "python",
   "pygments_lexer": "ipython3",
   "version": "3.11.8"
  },
  "rise": {
   "center": false,
   "enable_chalkboard": true,
   "transition": "fade"
  }
 },
 "nbformat": 4,
 "nbformat_minor": 4
}
