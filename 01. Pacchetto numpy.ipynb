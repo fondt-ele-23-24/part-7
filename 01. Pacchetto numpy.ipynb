{
 "cells": [
  {
   "cell_type": "markdown",
   "metadata": {
    "slideshow": {
     "slide_type": "slide"
    }
   },
   "source": [
    "# Pacchetto Numpy"
   ]
  },
  {
   "cell_type": "markdown",
   "metadata": {
    "slideshow": {
     "slide_type": "subslide"
    }
   },
   "source": [
    "## Python e Calcolo Scientifico\n",
    "\n",
    "**Un elaboratore può essere utilizzato per risolvere problemi scientifici**\n",
    "\n",
    "Tipicamente, si tratta di applicazioni caratterizzate da:\n",
    "\n",
    "* Grandi quantità di dati\n",
    "* Elaborazioni complesse ed onerose\n",
    "* Composizione di diversi sottoproblemi\n",
    "\n",
    "**Del linguaggio Python abbiamo detto che:**\n",
    "\n",
    "* Permette di _sviluppare_ molto velocemente\n",
    "* ...Ma in termini di _esecuzione_ è piuttoto lento\n",
    "\n",
    "Rispetto al calcolo scientifico:\n",
    "\n",
    "* La prima caratteristica rappresenta un grosso vantaggio\n",
    "* ...Ma la seconda è apparentemente una barriere invalicabile"
   ]
  },
  {
   "cell_type": "markdown",
   "metadata": {
    "slideshow": {
     "slide_type": "subslide"
    }
   },
   "source": [
    "## Pacchetto `numpy`\n",
    "\n",
    "**Il problema delle prestazioni viene risolto attraverso _pacchetti esterni_**\n",
    "\n",
    "Paccheti dedicati possono offrire:\n",
    "\n",
    "* Strutture dati adatte a gestire grandi quantità di informazioni\n",
    "* Algoritmi efficienti per problemi di occorrenza frequente\n",
    "\n",
    "Entrambi possono essere implementati in linguaggi efficienti come C, C++, o Fortran\n",
    "\n",
    "**Il principale di questi pacchetti si chiama [`numpy`](https://numpy.org/) ed offre:**\n",
    "\n",
    "* Una struttura dati per gestire dati in _forma tensoriale_\n",
    "* Algoritmi per diversi problemi di calcolo numerico molto comuni\n",
    "\n",
    "Permette così di fare in Python quello che tradizionalmnete si faceva in [Matlab](https://www.mathworks.com/products/matlab.html)"
   ]
  },
  {
   "cell_type": "markdown",
   "metadata": {
    "slideshow": {
     "slide_type": "subslide"
    }
   },
   "source": [
    "## Classe  `numpy.array`\n",
    "\n",
    "**La struttura dati principale offerta da `numpy` si chiama `array`**\n",
    "\n",
    "Da un punto di vista matematico rappresenta un _tensore_\n",
    "\n",
    "* Un tensore è una collezione $n$-dimensionale di elementi contigui \n",
    "* Intuitivamente, è la generalizzazione di una matrice ad $n$ dimensioni\n",
    "* $1$ dimensione = vettore, $2$ dimensioni = matrice, $> 3$ dimensioni = tensore\n",
    "\n",
    "Dal punto di vista implementativo\n",
    "\n",
    "* I dati di un `array` sono memorizzati come sequenza mono-dimensionale\n",
    "* L'`array` ha una _forma_ che indica il numero di elementi per ogni dimensione\n",
    "* La forma viene utilizzata per determinare come accedere agli elementi"
   ]
  },
  {
   "cell_type": "markdown",
   "metadata": {
    "slideshow": {
     "slide_type": "subslide"
    }
   },
   "source": [
    "## Classe  `numpy.array`\n",
    "\n",
    "**Vediamo come esempio una matrice $2 \\times 3$**\n",
    "\n",
    "La matrice vera è propria è:\n",
    "\n",
    "$$\n",
    "\\left(\\begin{array}{ccc}\n",
    "x_{0,0} & x_{0,1} & x_{0,2} \\\\\n",
    "x_{1,0} & x_{1,1} & x_{1,2}\n",
    "\\end{array}\\right)\n",
    "$$\n",
    "\n",
    "...Ma viene memorizzata (e.g.) per righe, come:\n",
    "\n",
    "$$\n",
    "\\left(\\begin{array}{cccccc}\n",
    "x_{0,0} & x_{0,1} & x_{0,2} &\n",
    "x_{1,0} & x_{1,1} & x_{1,2}\n",
    "\\end{array}\\right)\n",
    "$$\n",
    "\n",
    "* La forma è in questo caso $(2, 3)$\n",
    "* L'indice _bidimensionale_ $(i, j)$ corrisponde all'indice _lineare_ $3i + j$"
   ]
  },
  {
   "cell_type": "markdown",
   "metadata": {
    "slideshow": {
     "slide_type": "subslide"
    }
   },
   "source": [
    "## Utilizzo di `numpy`\n",
    "\n",
    "**`numpy` non fa parte dell'installazione minima di Python**\n",
    "\n",
    "* È pre-installato in alcune distribuzioni (e.g. Anaconda)\n",
    "* ...E si può installare in ogni caso usando un package manager\n",
    "  - E.g. `conda install numpy` o `pip install numpy`\n",
    "\n",
    "**`numpy` si può importare nel solito modo**\n",
    "\n",
    "...Canonicamnte lo si abbrevia come `np`"
   ]
  },
  {
   "cell_type": "code",
   "execution_count": 1,
   "metadata": {},
   "outputs": [],
   "source": [
    "import numpy as np"
   ]
  },
  {
   "cell_type": "markdown",
   "metadata": {},
   "source": [
    "* La documentazione è [reperibile online](https://numpy.org/doc/stable/)\n",
    "* ...Ed accessibile con `help(numpy)` o ahche `help('numpy')`"
   ]
  },
  {
   "cell_type": "markdown",
   "metadata": {
    "slideshow": {
     "slide_type": "subslide"
    }
   },
   "source": [
    "## Creazione di Array\n",
    "\n",
    "**Si può convertire una collezione sequenziale in un array:**"
   ]
  },
  {
   "cell_type": "code",
   "execution_count": 2,
   "metadata": {},
   "outputs": [
    {
     "name": "stdout",
     "output_type": "stream",
     "text": [
      "Collezione originale: [1, 2, 3]\n",
      "Array: [1 2 3]\n"
     ]
    }
   ],
   "source": [
    "x = [1, 2, 3]\n",
    "a = np.array(x)\n",
    "print('Collezione originale:', x)\n",
    "print('Array:', a)"
   ]
  },
  {
   "cell_type": "markdown",
   "metadata": {},
   "source": [
    "* La forma di un array è disponibile nell'attributo `shape`"
   ]
  },
  {
   "cell_type": "code",
   "execution_count": 3,
   "metadata": {},
   "outputs": [
    {
     "data": {
      "text/plain": [
       "(3,)"
      ]
     },
     "execution_count": 3,
     "metadata": {},
     "output_type": "execute_result"
    }
   ],
   "source": [
    "a.shape"
   ]
  },
  {
   "cell_type": "markdown",
   "metadata": {},
   "source": [
    "* `shape` è sempre _una tupla_ (in questo caso con un solo elemento)"
   ]
  },
  {
   "cell_type": "markdown",
   "metadata": {
    "slideshow": {
     "slide_type": "subslide"
    }
   },
   "source": [
    "## Creazione di Array\n",
    "\n",
    "**Usando _collezioni innestate_ is ottengono array multi-dimensionali**\n",
    "\n",
    "E.g. una lista di liste diventa un array bidimensionale"
   ]
  },
  {
   "cell_type": "code",
   "execution_count": 4,
   "metadata": {},
   "outputs": [
    {
     "name": "stdout",
     "output_type": "stream",
     "text": [
      "Collezione originale: [[1, 2, 3], [4, 5, 6]]\n",
      "Array:\n",
      "[[1 2 3]\n",
      " [4 5 6]]\n",
      "Forma: (2, 3)\n"
     ]
    }
   ],
   "source": [
    "x = [[1, 2, 3],\n",
    "     [4, 5, 6]]\n",
    "a = np.array(x)\n",
    "print('Collezione originale:', x)\n",
    "print('Array:')\n",
    "print(a)\n",
    "print('Forma:', a.shape)"
   ]
  },
  {
   "cell_type": "markdown",
   "metadata": {},
   "source": [
    "* In questo caso la tupla in `shape` ha due elementi\n",
    "* I.e. numero di righe e numero di colonne"
   ]
  },
  {
   "cell_type": "markdown",
   "metadata": {
    "slideshow": {
     "slide_type": "subslide"
    }
   },
   "source": [
    "## Creazione di Array\n",
    "\n",
    "**`numpy` fornisce funzioni per costruire particolari array**\n",
    "\n",
    "Per un array nullo si usa `zeros`"
   ]
  },
  {
   "cell_type": "code",
   "execution_count": 5,
   "metadata": {},
   "outputs": [
    {
     "name": "stdout",
     "output_type": "stream",
     "text": [
      "[[0. 0. 0.]\n",
      " [0. 0. 0.]]\n"
     ]
    }
   ],
   "source": [
    "shape = (2, 3) # numero di righe e colonne\n",
    "print(np.zeros(shape))"
   ]
  },
  {
   "cell_type": "markdown",
   "metadata": {},
   "source": [
    "Per un array unitario si usa `ones`"
   ]
  },
  {
   "cell_type": "code",
   "execution_count": 6,
   "metadata": {},
   "outputs": [
    {
     "name": "stdout",
     "output_type": "stream",
     "text": [
      "[[1. 1. 1.]\n",
      " [1. 1. 1.]]\n"
     ]
    }
   ],
   "source": [
    "print(np.ones(shape))"
   ]
  },
  {
   "cell_type": "markdown",
   "metadata": {
    "slideshow": {
     "slide_type": "subslide"
    }
   },
   "source": [
    "## Creazione di Array\n",
    "\n",
    "**`numpy` fornisce funzioni per costruire particolari array**\n",
    "\n",
    "Per un array riempito con un valore a scelta si usa `full`"
   ]
  },
  {
   "cell_type": "code",
   "execution_count": 7,
   "metadata": {},
   "outputs": [
    {
     "name": "stdout",
     "output_type": "stream",
     "text": [
      "[[nan nan nan]\n",
      " [nan nan nan]]\n"
     ]
    }
   ],
   "source": [
    "shape = (2, 3) # numero di righe e colonne\n",
    "val = np.NaN\n",
    "print(np.full(shape, np.NaN))"
   ]
  },
  {
   "cell_type": "markdown",
   "metadata": {},
   "source": [
    "* `NaN` sta per Not a Number\n",
    "* È l'equivalente di un valore mancate in calcolo numerico\n",
    "\n",
    "Per la matrice di identità si usa `eye`:"
   ]
  },
  {
   "cell_type": "code",
   "execution_count": 8,
   "metadata": {},
   "outputs": [
    {
     "name": "stdout",
     "output_type": "stream",
     "text": [
      "[[1. 0. 0.]\n",
      " [0. 1. 0.]\n",
      " [0. 0. 1.]]\n"
     ]
    }
   ],
   "source": [
    "n = 3\n",
    "print(np.eye(n))"
   ]
  },
  {
   "cell_type": "markdown",
   "metadata": {
    "slideshow": {
     "slide_type": "subslide"
    }
   },
   "source": [
    "## Creazione di Array\n",
    "\n",
    "**`numpy` fornisce funzioni per costruire particolari array**\n",
    "\n",
    "Per un array di _interi consecutivi_ si usa `arange`"
   ]
  },
  {
   "cell_type": "code",
   "execution_count": 9,
   "metadata": {},
   "outputs": [
    {
     "name": "stdout",
     "output_type": "stream",
     "text": [
      "[1 2 3 4 5 6 7 8 9]\n"
     ]
    }
   ],
   "source": [
    "x = np.arange(1, 10)\n",
    "print(x)"
   ]
  },
  {
   "cell_type": "markdown",
   "metadata": {},
   "source": [
    "Per un array di _valori equispaziati_ si usa  `linspace`:"
   ]
  },
  {
   "cell_type": "code",
   "execution_count": 10,
   "metadata": {},
   "outputs": [
    {
     "name": "stdout",
     "output_type": "stream",
     "text": [
      "[0.         0.88888889 1.77777778 2.66666667 3.55555556 4.44444444\n",
      " 5.33333333 6.22222222 7.11111111 8.        ]\n"
     ]
    }
   ],
   "source": [
    "start, stop, num = 0, 8, 10\n",
    "x = np.linspace(start, stop, num)\n",
    "print(x)"
   ]
  },
  {
   "cell_type": "markdown",
   "metadata": {},
   "source": [
    "* Il valore di default per `num` è 50 "
   ]
  },
  {
   "cell_type": "markdown",
   "metadata": {
    "slideshow": {
     "slide_type": "subslide"
    }
   },
   "source": [
    "## Tipo di un Array\n",
    "\n",
    "**Tutte gli elementi di un array devono essere dello stesso tipo**\n",
    "\n",
    "Il tipo degli elementi è accessibile attraverso l'attribyto `dtype`\n",
    "\n",
    "* Vi si può accedere usando la notazione con il punto\n",
    "* ...Ne parleremo meglio quando discuteremo le classi"
   ]
  },
  {
   "cell_type": "code",
   "execution_count": 12,
   "metadata": {},
   "outputs": [
    {
     "data": {
      "text/plain": [
       "dtype('float64')"
      ]
     },
     "execution_count": 12,
     "metadata": {},
     "output_type": "execute_result"
    }
   ],
   "source": [
    "x = np.zeros(3)\n",
    "x.dtype"
   ]
  },
  {
   "cell_type": "markdown",
   "metadata": {},
   "source": [
    "* Se si converte in array una lista con elementi eterogenei\n",
    "* ...`numpy` cerca di tradurre gli elementi in un unico dipo"
   ]
  },
  {
   "cell_type": "code",
   "execution_count": 13,
   "metadata": {},
   "outputs": [
    {
     "name": "stdout",
     "output_type": "stream",
     "text": [
      "[1.  2.3 1. ] float64\n"
     ]
    }
   ],
   "source": [
    "x = np.array([1, 2.3, True])\n",
    "print(x, x.dtype)"
   ]
  },
  {
   "cell_type": "markdown",
   "metadata": {
    "slideshow": {
     "slide_type": "subslide"
    }
   },
   "source": [
    "## Operazioni su Array\n",
    "\n",
    "**Gli operatori di Python sono ridefiniti per gli array**\n",
    "\n",
    "In particolare, funzionano _elemento per elemento_\n",
    "\n",
    "* Qualche esempio con gli operatori aritmetici"
   ]
  },
  {
   "cell_type": "code",
   "execution_count": 14,
   "metadata": {},
   "outputs": [
    {
     "name": "stdout",
     "output_type": "stream",
     "text": [
      "x + y: [5 7 9]\n",
      "x * y: [ 4 10 18]\n",
      "x - y: [-3 -3 -3]\n",
      "x / y: [0.25 0.4  0.5 ]\n",
      "y % 2: [0 1 0]\n"
     ]
    }
   ],
   "source": [
    "x = np.array([1, 2, 3])\n",
    "y = np.array([4, 5, 6])\n",
    "print('x + y:', x + y)\n",
    "print('x * y:', x * y)\n",
    "print('x - y:', x - y)\n",
    "print('x / y:', x / y)\n",
    "print('y % 2:', y % 2)"
   ]
  },
  {
   "cell_type": "markdown",
   "metadata": {
    "slideshow": {
     "slide_type": "subslide"
    }
   },
   "source": [
    "## Operazioni su Array\n",
    "\n",
    "**Gli operatori di Python sono ridefiniti per gli array**\n",
    "\n",
    "In particolare, funzionano _elemento per elemento_\n",
    "\n",
    "* Qualche esempio con gli operatori di confronto"
   ]
  },
  {
   "cell_type": "code",
   "execution_count": 15,
   "metadata": {},
   "outputs": [
    {
     "name": "stdout",
     "output_type": "stream",
     "text": [
      "x <= y: [ True  True False]\n",
      "x == y: [False  True False]\n"
     ]
    }
   ],
   "source": [
    "x = np.array([1, 2, 3])\n",
    "y = np.array([3, 2, 1])\n",
    "print('x <= y:', x <= y)\n",
    "print('x == y:', x == y)"
   ]
  },
  {
   "cell_type": "markdown",
   "metadata": {},
   "source": [
    "* Il risultato sono degli array di valori logici"
   ]
  },
  {
   "cell_type": "markdown",
   "metadata": {
    "slideshow": {
     "slide_type": "subslide"
    }
   },
   "source": [
    "## Operazioni su Array\n",
    "\n",
    "**Gli operatori di Python sono ridefiniti per gli array**\n",
    "\n",
    "In particolare, funzionano _elemento per elemento_\n",
    "\n",
    "* Gli operatori `&`, `|` e `~` non lavorano bit per bit\n",
    "* ...Ma elemento per elemento"
   ]
  },
  {
   "cell_type": "code",
   "execution_count": 16,
   "metadata": {},
   "outputs": [
    {
     "name": "stdout",
     "output_type": "stream",
     "text": [
      "~(x <= y): [False False  True]\n",
      "(x <= y) | (x >= y): [ True  True  True]\n",
      "(x <= y) & (x >= y): [False  True False]\n"
     ]
    }
   ],
   "source": [
    "print('~(x <= y):', ~(x <= y))\n",
    "print('(x <= y) | (x >= y):', (x <= y) | (x >= y))\n",
    "print('(x <= y) & (x >= y):', (x <= y) & (x >= y))"
   ]
  },
  {
   "cell_type": "markdown",
   "metadata": {},
   "source": [
    "* Occorre fare un po' di attenzione alle priorità\n",
    "* E.g. `&` e `|` hanno una priorità più alta degli operatori di confronto\n",
    "* Soluzione: usare le parentesi"
   ]
  },
  {
   "cell_type": "markdown",
   "metadata": {
    "slideshow": {
     "slide_type": "subslide"
    }
   },
   "source": [
    "## Accesso ad Array\n",
    "\n",
    "**Per accedere ad un array si usa l'operatore di indicizzazione, i.e. `[]`**\n",
    "\n",
    "Per accedere ad un singolo elemento si usa _una tupla come indice_"
   ]
  },
  {
   "cell_type": "code",
   "execution_count": 17,
   "metadata": {},
   "outputs": [
    {
     "name": "stdout",
     "output_type": "stream",
     "text": [
      "3\n"
     ]
    }
   ],
   "source": [
    "x = np.array([[1, 2, 3], [4, 5, 6]])\n",
    "print(x[0, 2]) # riga 0, colonna 2"
   ]
  },
  {
   "cell_type": "markdown",
   "metadata": {},
   "source": [
    "È anche possibile l'accesso mediante slice (come con le liste)"
   ]
  },
  {
   "cell_type": "code",
   "execution_count": 18,
   "metadata": {},
   "outputs": [
    {
     "name": "stdout",
     "output_type": "stream",
     "text": [
      "[1 2 3]\n",
      "[2 5]\n",
      "[[1 2]\n",
      " [4 5]]\n"
     ]
    }
   ],
   "source": [
    "print(x[0, :]) # l'intera riga 0\n",
    "print(x[:, 1]) # l'intera colonna 1\n",
    "print(x[:2, :2]) # prime due righe e due colonne"
   ]
  },
  {
   "cell_type": "markdown",
   "metadata": {},
   "source": [
    "* Si può usare uno slice per ciascuna dimensione"
   ]
  },
  {
   "cell_type": "markdown",
   "metadata": {
    "slideshow": {
     "slide_type": "subslide"
    }
   },
   "source": [
    "## Accesso ad Array\n",
    "\n",
    "**Si può accedere con una collezione di indici**\n",
    "\n",
    "Si utilizza di solito nel caso di array mono-dimensionali"
   ]
  },
  {
   "cell_type": "code",
   "execution_count": 19,
   "metadata": {},
   "outputs": [
    {
     "name": "stdout",
     "output_type": "stream",
     "text": [
      "[ 2  6 10]\n"
     ]
    }
   ],
   "source": [
    "x = np.array([2, 4, 6, 8, 10, 12])\n",
    "idx = [0, 2, 4]\n",
    "print(x[idx]) # accesso agli indici 0, 2 e 4"
   ]
  },
  {
   "cell_type": "markdown",
   "metadata": {},
   "source": [
    "* Prima si ottiene una collezione con gli indici desiderati\n",
    "* ...Quindi la si passa come argomento all'operatore di indicizzazione\n",
    "* I.e. tra le parentesi quadre `[]`\n",
    "\n",
    "Il risultato è un array con gli elementi agli indici specificati"
   ]
  },
  {
   "cell_type": "markdown",
   "metadata": {
    "slideshow": {
     "slide_type": "subslide"
    }
   },
   "source": [
    "## Accesso ad Array\n",
    "\n",
    "**Si può accedere utilizzando una _\"maschera\" logica_**\n",
    "\n",
    "* La maschera è un secondo array, con la stessa dimensione\n",
    "* ...E contenente valori logici"
   ]
  },
  {
   "cell_type": "code",
   "execution_count": 20,
   "metadata": {},
   "outputs": [
    {
     "name": "stdout",
     "output_type": "stream",
     "text": [
      "[[1 2 3]\n",
      " [4 5 6]]\n",
      "[[ True  True False]\n",
      " [False False  True]]\n"
     ]
    }
   ],
   "source": [
    "x = np.array([[1, 2, 3], [4, 5, 6]])\n",
    "print(x)\n",
    "mask = np.array([[True, True, False], [False, False, True]])\n",
    "print(mask)"
   ]
  },
  {
   "cell_type": "markdown",
   "metadata": {},
   "source": [
    "* Usando la maschera come indice si ottiene un array _monodimensionale_\n",
    "* ...Con gli elementi agli indici aventi `True` nella maschera"
   ]
  },
  {
   "cell_type": "code",
   "execution_count": 21,
   "metadata": {},
   "outputs": [
    {
     "name": "stdout",
     "output_type": "stream",
     "text": [
      "[1 2 6]\n"
     ]
    }
   ],
   "source": [
    "print(x[mask])"
   ]
  },
  {
   "cell_type": "markdown",
   "metadata": {
    "slideshow": {
     "slide_type": "subslide"
    }
   },
   "source": [
    "## Accesso ad Array\n",
    "\n",
    "**Si può accedere utilizzando una _\"maschera\" logica_**\n",
    "\n",
    "Si usa di solito per recuperare gli elementi che soddisfano una data condizione"
   ]
  },
  {
   "cell_type": "code",
   "execution_count": 22,
   "metadata": {},
   "outputs": [
    {
     "data": {
      "text/plain": [
       "array([2, 4, 6])"
      ]
     },
     "execution_count": 22,
     "metadata": {},
     "output_type": "execute_result"
    }
   ],
   "source": [
    "x = np.array([[1, 2, 3], [4, 5, 6]])\n",
    "x[x % 2 == 0]"
   ]
  },
  {
   "cell_type": "markdown",
   "metadata": {},
   "source": [
    "In questo esempio:\n",
    "\n",
    "* L'espressione `x % 2 == 0` restituisce una maschera logica\n",
    "* ...Che viene usata per accedere all'array\n",
    "\n",
    "Il risultato sono gli elementi con valore pari"
   ]
  },
  {
   "cell_type": "markdown",
   "metadata": {
    "slideshow": {
     "slide_type": "subslide"
    }
   },
   "source": [
    "## Assegnamento con Array\n",
    "\n",
    "**Si possono assegnare elementi individuali in un array**\n",
    "\n",
    "...Esattamente come per le liste:"
   ]
  },
  {
   "cell_type": "code",
   "execution_count": 23,
   "metadata": {},
   "outputs": [
    {
     "name": "stdout",
     "output_type": "stream",
     "text": [
      "[[1 2 3]\n",
      " [4 5 6]]\n",
      "[[ 1  2  3]\n",
      " [ 4 -1  6]]\n"
     ]
    }
   ],
   "source": [
    "x = np.array([[1, 2, 3], [4, 5, 6]])\n",
    "print(x)\n",
    "x[1, 1] = -1\n",
    "print(x)"
   ]
  },
  {
   "cell_type": "markdown",
   "metadata": {
    "slideshow": {
     "slide_type": "subslide"
    }
   },
   "source": [
    "## Assegnamento con Array\n",
    "\n",
    "**Si possono assegnare intere sottoparti di un array**\n",
    "\n",
    "E.g. si può assegnare una colonna:"
   ]
  },
  {
   "cell_type": "code",
   "execution_count": 24,
   "metadata": {},
   "outputs": [
    {
     "name": "stdout",
     "output_type": "stream",
     "text": [
      "[[1 2 3]\n",
      " [4 5 6]]\n",
      "[[ 1 -1  3]\n",
      " [ 4 -1  6]]\n"
     ]
    }
   ],
   "source": [
    "x = np.array([[1, 2, 3], [4, 5, 6]])\n",
    "print(x)\n",
    "x[:, 1] = [-1, -1]\n",
    "print(x)"
   ]
  },
  {
   "cell_type": "markdown",
   "metadata": {},
   "source": [
    "...O una riga:"
   ]
  },
  {
   "cell_type": "code",
   "execution_count": 25,
   "metadata": {},
   "outputs": [
    {
     "name": "stdout",
     "output_type": "stream",
     "text": [
      "[[-1 -1 -1]\n",
      " [ 4 -1  6]]\n"
     ]
    }
   ],
   "source": [
    "x[0, :] = [-1, -1, -1]\n",
    "print(x)"
   ]
  },
  {
   "cell_type": "markdown",
   "metadata": {
    "slideshow": {
     "slide_type": "subslide"
    }
   },
   "source": [
    "## Assegnamento con Array\n",
    "\n",
    "**Si possono assegnare intere sottoparti di un array**\n",
    "\n",
    "* Se le dimensioni della porzione di array selezionata\n",
    "* ...Sono diverse dalle dimensioni dell'oggetto assegnato\n",
    "* `numpy` tenta di adattare il secondo al primo\n",
    "\n",
    "Il caso più tipico è l'assegnamento di uno scalare:"
   ]
  },
  {
   "cell_type": "code",
   "execution_count": 26,
   "metadata": {},
   "outputs": [
    {
     "name": "stdout",
     "output_type": "stream",
     "text": [
      "[[1 2 3]\n",
      " [4 5 6]]\n",
      "[[-1 -1  3]\n",
      " [-1 -1  6]]\n"
     ]
    }
   ],
   "source": [
    "x = np.array([[1, 2, 3], [4, 5, 6]])\n",
    "print(x)\n",
    "x[:2, :2] = -1\n",
    "print(x)"
   ]
  },
  {
   "cell_type": "markdown",
   "metadata": {},
   "source": [
    "* In questo caso tutti gli elementi selezionati\n",
    "* ...Vengono sostituiti con lo scalare"
   ]
  },
  {
   "cell_type": "markdown",
   "metadata": {
    "slideshow": {
     "slide_type": "subslide"
    }
   },
   "source": [
    "## Funzioni e Metodi in `numpy`\n",
    "\n",
    "**`numpy` fornisce diverse funzioni per lavorare con array**\n",
    "\n",
    "Vediamo un po' di funzioni _aritmetiche_:"
   ]
  },
  {
   "cell_type": "code",
   "execution_count": 27,
   "metadata": {},
   "outputs": [
    {
     "name": "stdout",
     "output_type": "stream",
     "text": [
      "[ 1  4  9 16]\n",
      "[1.         1.41421356 1.73205081 2.        ]\n",
      "[ 2.71828183  7.3890561  20.08553692 54.59815003]\n",
      "[0.         0.69314718 1.09861229 1.38629436]\n",
      "[ 0.84147098  0.90929743  0.14112001 -0.7568025 ]\n",
      "[ 0.54030231 -0.41614684 -0.9899925  -0.65364362]\n"
     ]
    }
   ],
   "source": [
    "x = np.array([1, 2, 3, 4])\n",
    "print(np.square(x)) # quadrato elemento per elemento\n",
    "print(np.sqrt(x)) # radice quadrata elemento per elemento\n",
    "print(np.exp(x)) # esponenziale elemento per elemento\n",
    "print(np.log(x)) # logaritmo elemento per elemento\n",
    "print(np.sin(x)) # seno elemento per elemento\n",
    "print(np.cos(x)) # coseno elemento per elemento"
   ]
  },
  {
   "cell_type": "markdown",
   "metadata": {
    "slideshow": {
     "slide_type": "subslide"
    }
   },
   "source": [
    "## Funzioni e Metodi in `numpy`\n",
    "\n",
    "**`numpy` fornisce diverse funzioni per lavorare con array**\n",
    "\n",
    "Vediamo qualche di funzioni di _aggregazione_:"
   ]
  },
  {
   "cell_type": "code",
   "execution_count": 28,
   "metadata": {},
   "outputs": [
    {
     "name": "stdout",
     "output_type": "stream",
     "text": [
      "24\n",
      "10\n",
      "2.5\n",
      "1.118033988749895\n"
     ]
    }
   ],
   "source": [
    "x = np.array([1, 2, 3, 4])\n",
    "print(np.prod(x)) # prodotto degli elementi\n",
    "print(np.sum(x)) # somma degli elementi\n",
    "print(np.mean(x)) # media\n",
    "print(np.std(x)) # deviazione standard"
   ]
  },
  {
   "cell_type": "markdown",
   "metadata": {
    "slideshow": {
     "slide_type": "subslide"
    }
   },
   "source": [
    "## Funzioni e Metodi in `numpy`\n",
    "\n",
    "**`numpy` fornisce diverse funzioni per lavorare con array**\n",
    "\n",
    "Vediamo qualche di funzioni per lavorare con _numeri pseudo casuali_:"
   ]
  },
  {
   "cell_type": "code",
   "execution_count": 29,
   "metadata": {},
   "outputs": [
    {
     "name": "stdout",
     "output_type": "stream",
     "text": [
      "[0.37454012 0.95071431 0.73199394 0.59865848]\n",
      "[2 1 2 2]\n",
      "[6 6 8 2]\n"
     ]
    }
   ],
   "source": [
    "np.random.seed(42) # scelta del \"seed\"\n",
    "shape = (4,)\n",
    "print(np.random.random(shape)) # generazione di numeri casuali in [0,1)\n",
    "print(np.random.randint(low=0, high=4, size=shape)) # generazione di numeri casuali interi\n",
    "vals = [2, 4, 6, 8]\n",
    "print(np.random.choice(vals, size=shape)) # elementi casuali da una co"
   ]
  },
  {
   "cell_type": "markdown",
   "metadata": {},
   "source": [
    "* Le funzioni in questa categoria sono nel modulo `np.random`\n",
    "* Vi sono altri moduli utili (al solito: vedere la documentazione!)"
   ]
  },
  {
   "cell_type": "markdown",
   "metadata": {},
   "source": [
    "## Funzioni e Metodi in `numpy`\n",
    "\n",
    "**Alcune funzioni sono disponibili anche come metodi**"
   ]
  },
  {
   "cell_type": "code",
   "execution_count": 29,
   "metadata": {},
   "outputs": [
    {
     "name": "stdout",
     "output_type": "stream",
     "text": [
      "24\n",
      "10\n",
      "2.5\n",
      "1.118033988749895\n"
     ]
    }
   ],
   "source": [
    "x = np.array([1, 2, 3, 4])\n",
    "print(x.prod()) # prodotto degli elementi\n",
    "print(x.sum()) # somma degli elementi\n",
    "print(x.mean()) # media\n",
    "print(x.std()) # deviazione standard"
   ]
  },
  {
   "cell_type": "markdown",
   "metadata": {},
   "source": [
    "* Il comportamento è lo stesso delle funzioni\n",
    "* ...Ma la notazione è un po' più compatta"
   ]
  },
  {
   "cell_type": "markdown",
   "metadata": {
    "slideshow": {
     "slide_type": "subslide"
    }
   },
   "source": [
    "## Vantaggi di `numpy`\n",
    "\n",
    "**`numpy` ci permette di ottenere codice più leggibile ed efficiente**\n",
    "\n",
    "E.g. supponiamo di dover sommare due sequenze di numeri\n",
    "\n",
    "* Prima risolviamo il problema usando Python \"nativo\""
   ]
  },
  {
   "cell_type": "code",
   "execution_count": 30,
   "metadata": {},
   "outputs": [
    {
     "name": "stdout",
     "output_type": "stream",
     "text": [
      "CPU times: user 1.58 s, sys: 476 ms, total: 2.05 s\n",
      "Wall time: 2.05 s\n"
     ]
    }
   ],
   "source": [
    "%%time\n",
    "n = 20000000\n",
    "a = [i for i in range(n)]\n",
    "b = [i for i in range(n)]\n",
    "c = [v1 + v2 for v1, v2 in zip(a, b)]"
   ]
  },
  {
   "cell_type": "markdown",
   "metadata": {},
   "source": [
    "* Il comando `%%time` stampa il tempo impiegato ad eseguire la cella"
   ]
  },
  {
   "cell_type": "markdown",
   "metadata": {
    "slideshow": {
     "slide_type": "subslide"
    }
   },
   "source": [
    "## Vantaggi di `numpy`\n",
    "\n",
    "**`numpy` ci permette di ottenere codice più leggibile ed efficiente**\n",
    "\n",
    "E.g. supponiamo di dover sommare due sequenze di numeri\n",
    "\n",
    "* Ora risolviamo il problema con `numpy`"
   ]
  },
  {
   "cell_type": "code",
   "execution_count": 31,
   "metadata": {},
   "outputs": [
    {
     "name": "stdout",
     "output_type": "stream",
     "text": [
      "CPU times: user 346 ms, sys: 99 ms, total: 445 ms\n",
      "Wall time: 444 ms\n"
     ]
    }
   ],
   "source": [
    "%%time\n",
    "n = 20000000\n",
    "a = np.arange(n)\n",
    "b = np.arange(n)\n",
    "c = a + b"
   ]
  },
  {
   "cell_type": "markdown",
   "metadata": {},
   "source": [
    "* La versione fatta con `numpy` è più leggibile\n",
    "* ...E quasi 5 volte più veloce!"
   ]
  }
 ],
 "metadata": {
  "celltoolbar": "Slideshow",
  "kernelspec": {
   "display_name": "Python 3 (ipykernel)",
   "language": "python",
   "name": "python3"
  },
  "language_info": {
   "codemirror_mode": {
    "name": "ipython",
    "version": 3
   },
   "file_extension": ".py",
   "mimetype": "text/x-python",
   "name": "python",
   "nbconvert_exporter": "python",
   "pygments_lexer": "ipython3",
   "version": "3.11.8"
  },
  "rise": {
   "center": false,
   "enable_chalkboard": true,
   "transition": "fade"
  }
 },
 "nbformat": 4,
 "nbformat_minor": 4
}
